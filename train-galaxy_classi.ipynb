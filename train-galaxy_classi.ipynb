{
 "cells": [
  {
   "cell_type": "code",
   "execution_count": 1,
   "id": "b9f669df",
   "metadata": {},
   "outputs": [],
   "source": [
    "import torch\n",
    "import torch.nn as nn\n",
    "import torch.optim as optim\n",
    "import torch.nn.functional as F\n",
    "from torchvision import datasets, transforms, models"
   ]
  },
  {
   "cell_type": "code",
   "execution_count": 2,
   "id": "64a4814f",
   "metadata": {},
   "outputs": [],
   "source": [
    "import numpy as np\n",
    "import os\n",
    "import json\n",
    "import time\n",
    "import copy"
   ]
  },
  {
   "cell_type": "markdown",
   "id": "219bebfe",
   "metadata": {},
   "source": [
    "# 1. Define the network"
   ]
  },
  {
   "cell_type": "code",
   "execution_count": 34,
   "id": "b520748f",
   "metadata": {},
   "outputs": [],
   "source": [
    "class ResBlock(nn.Module):\n",
    "    \"\"\"\n",
    "    Resnet block\n",
    "    \"\"\"\n",
    "    def __init__(self, ch_in, ch_out, stride=1):\n",
    "        \"\"\"\n",
    "        :param ch_in\n",
    "        :param ch_out\n",
    "        \"\"\"\n",
    "        super(ResBlock, self).__init__()\n",
    "        \n",
    "        self.conv1 = nn.Conv2d(ch_in, ch_out, kernel_size=3, stride=stride, padding=1)\n",
    "        self.bn1 = nn.BatchNorm2d(ch_out)\n",
    "        self.conv2 = nn.Conv2d(ch_out, ch_out, kernel_size=3, stride=1, padding=1)\n",
    "        self.bn2 = nn.BatchNorm2d(ch_out)\n",
    "        \n",
    "        self.extra = nn.Sequential()\n",
    "        if (ch_out != ch_in)or(stride!=1):\n",
    "            #print('ch_out != ch_in')\n",
    "            # [b, ch_in, h, w] => [b, ch_out, h, w]            \n",
    "            self.extra = nn.Sequential(\n",
    "                nn.Conv2d(ch_in, ch_out, kernel_size=1, stride=stride),\n",
    "                nn.BatchNorm2d(ch_out)\n",
    "            )\n",
    "    \n",
    "    def forward(self, x):\n",
    "        \"\"\"\n",
    "        :param x: [b, ch, h, w]\n",
    "        :return:\n",
    "        \"\"\"\n",
    "        out = F.relu(self.bn1(self.conv1(x)))\n",
    "        out = self.bn2(self.conv2(out))\n",
    "        # short cut\n",
    "        # extra module: [b, ch_in, h, w] => [b, ch_out, h, w]\n",
    "        # element-wise add:\n",
    "        #print('outshape:',out.shape)\n",
    "        #print('extrashape:', self.extra(x).shape)\n",
    "        out = self.extra(x) + out\n",
    "        out = F.relu(out)\n",
    "        \n",
    "        return out\n",
    "    \n",
    "class ResNet(nn.Module):\n",
    "    \n",
    "    def __init__(self):\n",
    "        super(ResNet, self).__init__()\n",
    "        \n",
    "        # pre-produce layer\n",
    "        self.conv1 = nn.Sequential(\n",
    "            nn.Conv2d(3, 18, kernel_size=3, stride=1, padding=1),\n",
    "            nn.BatchNorm2d(18)\n",
    "        )\n",
    "        # followed 4 blocks\n",
    "        ## [b, 64, h, w] => [b, 128, h, w]\n",
    "        self.blk1 = ResBlock(18, 36, stride=2)\n",
    "        ## [b, 128, h, w] => [b, 256, h, w]\n",
    "        self.blk2 = ResBlock(36, 72, stride=2)\n",
    "        ## [b, 256, h, w] => [b, 512, h, w]\n",
    "        self.blk3 = ResBlock(72, 144, stride=2)\n",
    "        ## [b, 512, h, w] => [b, 1024, h, w]\n",
    "        self.blk4 = ResBlock(144, 144, stride=2)\n",
    "        \n",
    "        self.outlayer = nn.Sequential(\n",
    "            nn.Linear(144,10),\n",
    "            nn.LogSoftmax(dim=1)\n",
    "                                     )\n",
    "\n",
    "    def forward(self, x):\n",
    "        \"\"\"\n",
    "        :param: x:\n",
    "        :return:\n",
    "        \"\"\"\n",
    "        x = F.relu(self.conv1(x))\n",
    "        \n",
    "        ## [b, 64, h, w] => [b, 1024, h, w]\n",
    "        x = self.blk1(x)\n",
    "        x = self.blk2(x)\n",
    "        x = self.blk3(x)\n",
    "        x = self.blk4(x)\n",
    "        \n",
    "        # print('after conv:', x.shape) # [b, 512, 2, 2]\n",
    "        ## [b, 512, h, w] => [b, 512, 1, 1]\n",
    "        x = F.adaptive_avg_pool2d(x, [1,1])\n",
    "        # print('after pool:', x.shape)\n",
    "        \n",
    "        x = x.view(x.size(0), -1)  # flatten\n",
    "        x = self.outlayer(x)\n",
    "        \n",
    "        return x"
   ]
  },
  {
   "cell_type": "markdown",
   "id": "1a3c6780",
   "metadata": {},
   "source": [
    "## 1.1 parameters"
   ]
  },
  {
   "cell_type": "code",
   "execution_count": 4,
   "id": "3880bd6d",
   "metadata": {
    "scrolled": true
   },
   "outputs": [
    {
     "data": {
      "text/plain": [
       "<bound method Module.parameters of ResNet(\n",
       "  (conv1): Sequential(\n",
       "    (0): Conv2d(3, 64, kernel_size=(3, 3), stride=(1, 1), padding=(1, 1))\n",
       "    (1): BatchNorm2d(64, eps=1e-05, momentum=0.1, affine=True, track_running_stats=True)\n",
       "  )\n",
       "  (blk1): ResBlock(\n",
       "    (conv1): Conv2d(64, 128, kernel_size=(3, 3), stride=(2, 2), padding=(1, 1))\n",
       "    (bn1): BatchNorm2d(128, eps=1e-05, momentum=0.1, affine=True, track_running_stats=True)\n",
       "    (conv2): Conv2d(128, 128, kernel_size=(3, 3), stride=(1, 1), padding=(1, 1))\n",
       "    (bn2): BatchNorm2d(128, eps=1e-05, momentum=0.1, affine=True, track_running_stats=True)\n",
       "    (extra): Sequential(\n",
       "      (0): Conv2d(64, 128, kernel_size=(1, 1), stride=(2, 2))\n",
       "      (1): BatchNorm2d(128, eps=1e-05, momentum=0.1, affine=True, track_running_stats=True)\n",
       "    )\n",
       "  )\n",
       "  (blk2): ResBlock(\n",
       "    (conv1): Conv2d(128, 256, kernel_size=(3, 3), stride=(2, 2), padding=(1, 1))\n",
       "    (bn1): BatchNorm2d(256, eps=1e-05, momentum=0.1, affine=True, track_running_stats=True)\n",
       "    (conv2): Conv2d(256, 256, kernel_size=(3, 3), stride=(1, 1), padding=(1, 1))\n",
       "    (bn2): BatchNorm2d(256, eps=1e-05, momentum=0.1, affine=True, track_running_stats=True)\n",
       "    (extra): Sequential(\n",
       "      (0): Conv2d(128, 256, kernel_size=(1, 1), stride=(2, 2))\n",
       "      (1): BatchNorm2d(256, eps=1e-05, momentum=0.1, affine=True, track_running_stats=True)\n",
       "    )\n",
       "  )\n",
       "  (blk3): ResBlock(\n",
       "    (conv1): Conv2d(256, 512, kernel_size=(3, 3), stride=(2, 2), padding=(1, 1))\n",
       "    (bn1): BatchNorm2d(512, eps=1e-05, momentum=0.1, affine=True, track_running_stats=True)\n",
       "    (conv2): Conv2d(512, 512, kernel_size=(3, 3), stride=(1, 1), padding=(1, 1))\n",
       "    (bn2): BatchNorm2d(512, eps=1e-05, momentum=0.1, affine=True, track_running_stats=True)\n",
       "    (extra): Sequential(\n",
       "      (0): Conv2d(256, 512, kernel_size=(1, 1), stride=(2, 2))\n",
       "      (1): BatchNorm2d(512, eps=1e-05, momentum=0.1, affine=True, track_running_stats=True)\n",
       "    )\n",
       "  )\n",
       "  (blk4): ResBlock(\n",
       "    (conv1): Conv2d(512, 512, kernel_size=(3, 3), stride=(2, 2), padding=(1, 1))\n",
       "    (bn1): BatchNorm2d(512, eps=1e-05, momentum=0.1, affine=True, track_running_stats=True)\n",
       "    (conv2): Conv2d(512, 512, kernel_size=(3, 3), stride=(1, 1), padding=(1, 1))\n",
       "    (bn2): BatchNorm2d(512, eps=1e-05, momentum=0.1, affine=True, track_running_stats=True)\n",
       "    (extra): Sequential(\n",
       "      (0): Conv2d(512, 512, kernel_size=(1, 1), stride=(2, 2))\n",
       "      (1): BatchNorm2d(512, eps=1e-05, momentum=0.1, affine=True, track_running_stats=True)\n",
       "    )\n",
       "  )\n",
       "  (outlayer): Linear(in_features=512, out_features=10, bias=True)\n",
       ")>"
      ]
     },
     "execution_count": 4,
     "metadata": {},
     "output_type": "execute_result"
    }
   ],
   "source": [
    "model_ = ResNet()\n",
    "model_.parameters"
   ]
  },
  {
   "cell_type": "code",
   "execution_count": 77,
   "id": "901ca276",
   "metadata": {},
   "outputs": [
    {
     "name": "stdout",
     "output_type": "stream",
     "text": [
      "total params: 780562\n"
     ]
    }
   ],
   "source": [
    "_params = list(model_.parameters())\n",
    "k = 0\n",
    "for i in _params:\n",
    "    l = 1\n",
    "    for j in i.size():\n",
    "        l *= j\n",
    "    k+=l\n",
    "print('total params:',k)"
   ]
  },
  {
   "cell_type": "code",
   "execution_count": null,
   "id": "aac263ca",
   "metadata": {},
   "outputs": [],
   "source": []
  },
  {
   "cell_type": "code",
   "execution_count": null,
   "id": "3879d50b",
   "metadata": {},
   "outputs": [],
   "source": []
  },
  {
   "cell_type": "markdown",
   "id": "8fa92e00",
   "metadata": {},
   "source": [
    "# 2. Train"
   ]
  },
  {
   "cell_type": "markdown",
   "id": "a60ca87d",
   "metadata": {},
   "source": [
    "## 2.1 Preparation"
   ]
  },
  {
   "cell_type": "code",
   "execution_count": 5,
   "id": "9a35bc6f",
   "metadata": {},
   "outputs": [
    {
     "data": {
      "text/plain": [
       "device(type='cpu')"
      ]
     },
     "execution_count": 5,
     "metadata": {},
     "output_type": "execute_result"
    }
   ],
   "source": [
    "train_on_gpu = torch.cuda.is_available()\n",
    "device = torch.device('cuda:0' if train_on_gpu else 'cpu')\n",
    "device"
   ]
  },
  {
   "cell_type": "code",
   "execution_count": 39,
   "id": "7dbdc0a0",
   "metadata": {},
   "outputs": [],
   "source": [
    "# data preparation\n",
    "\n",
    "data_dir = '../data/'\n",
    "train_dir = data_dir + 'train/'\n",
    "valid_dir = data_dir + 'valid/'\n",
    "\n",
    "data_transforms = {\n",
    "    'train': transforms.Compose([\n",
    "        transforms.Resize((32,32)),\n",
    "        transforms.ToTensor(),\n",
    "        transforms.Normalize(mean=[0.485,0.456,0.406],\n",
    "                             std=[0.229,0.224,0.225])\n",
    "    ]),\n",
    "    'valid': transforms.Compose([\n",
    "        transforms.Resize((32,32)),\n",
    "        transforms.ToTensor(),\n",
    "        transforms.Normalize(mean=[0.485,0.456,0.406],\n",
    "                             std=[0.229,0.224,0.225])\n",
    "    ])\n",
    "}"
   ]
  },
  {
   "cell_type": "code",
   "execution_count": 40,
   "id": "ac0f17c8",
   "metadata": {},
   "outputs": [],
   "source": [
    "batch_size = 16\n",
    "\n",
    "image_datasets = {x: datasets.ImageFolder(os.path.join(data_dir, x), data_transforms[x]) for x in ['train', 'valid']}\n",
    "dataloaders = {x: torch.utils.data.DataLoader(image_datasets[x], batch_size=batch_size, shuffle=True) for x in ['train', 'valid']}\n",
    "dataset_sizes = {x: len(image_datasets[x]) for x in ['train','valid']}\n",
    "\n",
    "class_names = image_datasets['train'].classes"
   ]
  },
  {
   "cell_type": "code",
   "execution_count": 41,
   "id": "a3cb141b",
   "metadata": {},
   "outputs": [],
   "source": [
    "model_ft = ResNet().to(device)\n",
    "criterion = nn.CrossEntropyLoss().to(device)\n",
    "#criterion = nn.NLLLoss().to(device)\n",
    "optimizer_ft = optim.Adam(model_ft.parameters(), lr=1e-3)\n",
    "scheduler = optim.lr_scheduler.StepLR(optimizer_ft, step_size=7, gamma=0.1)\n"
   ]
  },
  {
   "cell_type": "code",
   "execution_count": null,
   "id": "16619425",
   "metadata": {},
   "outputs": [],
   "source": []
  },
  {
   "cell_type": "markdown",
   "id": "c253779e",
   "metadata": {},
   "source": [
    "## 2.2 the train model"
   ]
  },
  {
   "cell_type": "code",
   "execution_count": 46,
   "id": "92d8fdd1",
   "metadata": {},
   "outputs": [],
   "source": [
    "def train_model(model, device, dataloaders, criterion, optimizer, num_epochs=25, filename='outupt1.pth'):\n",
    "    since = time.time()\n",
    "    best_acc = 0\n",
    "    model.to(device)\n",
    "    #print(model)\n",
    "    \n",
    "    # process records\n",
    "    val_acc_history = []\n",
    "    train_acc_history = []\n",
    "    train_losses = []\n",
    "    valid_losses = []\n",
    "    LRs = [optimizer.param_groups[0]['lr']]\n",
    "    \n",
    "    best_model_wts = copy.deepcopy(model.state_dict())\n",
    "    \n",
    "    for epoch in range(num_epochs):\n",
    "        print('Epoch {}/{}'.format(epoch, num_epochs-1))\n",
    "        print('-' *10)\n",
    "        \n",
    "        for phase in ['train', 'valid']:\n",
    "            if phase == 'train':\n",
    "                print('###training###')\n",
    "                model.train()\n",
    "            else:\n",
    "                print('###validating###')\n",
    "                model.eval()\n",
    "            \n",
    "            running_loss = 0.\n",
    "            running_correct = 0.\n",
    "            \n",
    "            #bb = 0\n",
    "            for inputs, labels in dataloaders[phase]:\n",
    "                \n",
    "                inputs, labels = inputs.to(device), labels.to(device)\n",
    " \n",
    "                with torch.set_grad_enabled(phase=='train'):\n",
    "                    # outputs: [b, 10]\n",
    "                    # label: [b]\n",
    "                    # lodd: tensor scalar\n",
    "                    outputs = model(inputs)\n",
    "                    loss = criterion(outputs, labels)\n",
    "\n",
    "                    _, preds = torch.max(outputs, 1)\n",
    "\n",
    "                    if phase=='train':\n",
    "                        #print('training batch:', bb)\n",
    "                        #bb+=1\n",
    "                        # backprop\n",
    "                        optimizer.zero_grad()\n",
    "                        loss.backward()\n",
    "                        optimizer.step()\n",
    "\n",
    "                # calculate the loss\n",
    "                #print('loss:%.3f'%loss.item())\n",
    "                running_loss += loss.item() * inputs.size(0)\n",
    "                running_correct += torch.sum(preds==labels.data)\n",
    "\n",
    "            epoch_loss = running_loss / len(dataloaders[phase].dataset)\n",
    "            epoch_acc = running_correct.double() / len(dataloaders[phase].dataset)\n",
    "\n",
    "            time_elapsed = time.time()- since\n",
    "            print('Time elapsed {:.0f}m {:.0f}s'.format(time_elapsed // 60, time_elapsed % 60))\n",
    "            print('{} Loss: {:.4f} Acc: {:.4f}'.format(phase, epoch_loss, epoch_acc))\n",
    "\n",
    "            if phase=='valid' and epoch_acc>best_acc:\n",
    "                best_acc = epoch_acc\n",
    "                best_model_wts = copy.deepcopy(model.state_dict())\n",
    "                state = {\n",
    "                    'state_dict': model.state_dict(),\n",
    "                    'best_acc': best_acc,\n",
    "                    'optimizer': optimizer.state_dict()\n",
    "                }\n",
    "                torch.save(state, filename)\n",
    "            \n",
    "            if phase=='valid':\n",
    "                val_acc_history.append(epoch_acc)\n",
    "                valid_losses.append(epoch_loss)\n",
    "                scheduler.step(epoch_loss)\n",
    "            if phase=='train':\n",
    "                train_acc_history.append(epoch_acc)\n",
    "                train_losses.append(epoch_loss)\n",
    "            \n",
    "        print('Optimizer learning rate: {:.7f}'.format(optimizer.param_groups[0]['lr']))\n",
    "        LRs.append(optimizer.param_groups[0]['lr'])\n",
    "        print()\n",
    "        \n",
    "    time_elapsed = time.time()- since\n",
    "    print('Training complete in {:.0f}m {:.0f}s'.format(time_elapsed // 60, time_elapsed % 60))\n",
    "    print('Best val Acc: {:4f}'.format(best_acc))\n",
    "    \n",
    "    model.load_state_dict(best_model_wts)\n",
    "    return model, val_acc_history, train_acc_history, valid_losses, train_losses, LRs"
   ]
  },
  {
   "cell_type": "code",
   "execution_count": null,
   "id": "2d3635e0",
   "metadata": {},
   "outputs": [],
   "source": []
  },
  {
   "cell_type": "markdown",
   "id": "406a7720",
   "metadata": {},
   "source": [
    "## 2.3 train"
   ]
  },
  {
   "cell_type": "code",
   "execution_count": 49,
   "id": "a861fc48",
   "metadata": {
    "scrolled": true
   },
   "outputs": [
    {
     "name": "stdout",
     "output_type": "stream",
     "text": [
      "Epoch 0/1\n",
      "----------\n",
      "###training###\n",
      "Time elapsed 2m 6s\n",
      "train Loss: 0.0603 Acc: 0.9796\n",
      "###validating###\n",
      "Time elapsed 2m 10s\n",
      "valid Loss: 1.0598 Acc: 0.7870\n",
      "Optimizer learning rate: 0.0010000\n",
      "\n",
      "Epoch 1/1\n",
      "----------\n",
      "###training###\n"
     ]
    },
    {
     "name": "stderr",
     "output_type": "stream",
     "text": [
      "/opt/anaconda3/lib/python3.9/site-packages/torch/optim/lr_scheduler.py:156: UserWarning: The epoch parameter in `scheduler.step()` was not necessary and is being deprecated where possible. Please use `scheduler.step()` to step the scheduler. During the deprecation, if epoch is different from None, the closed form is used instead of the new chainable form, where available. Please open an issue if you are unable to replicate your use case: https://github.com/pytorch/pytorch/issues/new/choose.\n",
      "  warnings.warn(EPOCH_DEPRECATION_WARNING, UserWarning)\n"
     ]
    },
    {
     "name": "stdout",
     "output_type": "stream",
     "text": [
      "Time elapsed 4m 24s\n",
      "train Loss: 0.0583 Acc: 0.9791\n",
      "###validating###\n",
      "Time elapsed 4m 28s\n",
      "valid Loss: 1.0319 Acc: 0.7884\n",
      "Optimizer learning rate: 0.0010000\n",
      "\n",
      "Training complete in 4m 28s\n",
      "Best val Acc: 0.788365\n"
     ]
    }
   ],
   "source": [
    "model1, valid_acc, train_acc, valid_loss, train_loss, LRs1 = train_model(\n",
    "                                    model_ft, device, dataloaders, criterion, optimizer_ft, num_epochs=2)"
   ]
  },
  {
   "cell_type": "code",
   "execution_count": null,
   "id": "d5539328",
   "metadata": {},
   "outputs": [],
   "source": []
  },
  {
   "cell_type": "markdown",
   "id": "0b78ef58",
   "metadata": {},
   "source": [
    "# 3. Results display"
   ]
  },
  {
   "cell_type": "code",
   "execution_count": null,
   "id": "b4a9dbfc",
   "metadata": {},
   "outputs": [],
   "source": [
    "epoch_num = len(train_loss)\n",
    "plt.plot(np.arange(epoch_num), train_loss, marker='o', label='Train')\n",
    "plt.plot(np.arange(epoch_num), valid_loss, marker='o', label='Valid')\n",
    "plt.xticks(np.arange(0,epoch_num,2), [int(xx) for xx in np.arange(0,epoch_num,2)])\n",
    "plt.xlabel('Epoch', fontsize=14)\n",
    "plt.ylabel('Loss', fontsize=14)\n",
    "plt.legend()"
   ]
  },
  {
   "cell_type": "code",
   "execution_count": null,
   "id": "ec23bd56",
   "metadata": {},
   "outputs": [],
   "source": []
  },
  {
   "cell_type": "code",
   "execution_count": null,
   "id": "f62210b5",
   "metadata": {},
   "outputs": [],
   "source": [
    "epoch_num = len(train_loss)\n",
    "plt.plot(np.arange(epoch_num), train_acc, marker='o', label='Train')\n",
    "plt.plot(np.arange(epoch_num), valid_acc, marker='o', label='Valid')\n",
    "plt.xticks(np.arange(0,epoch_num,2), [int(xx) for xx in np.arange(0,epoch_num,2)])\n",
    "plt.xlabel('Epoch', fontsize=14)\n",
    "plt.ylabel('Accuracy', fontsize=14)\n",
    "plt.legend()"
   ]
  }
 ],
 "metadata": {
  "kernelspec": {
   "display_name": "Python 3 (ipykernel)",
   "language": "python",
   "name": "python3"
  },
  "language_info": {
   "codemirror_mode": {
    "name": "ipython",
    "version": 3
   },
   "file_extension": ".py",
   "mimetype": "text/x-python",
   "name": "python",
   "nbconvert_exporter": "python",
   "pygments_lexer": "ipython3",
   "version": "3.9.17"
  }
 },
 "nbformat": 4,
 "nbformat_minor": 5
}
